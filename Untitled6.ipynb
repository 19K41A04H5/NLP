{
  "nbformat": 4,
  "nbformat_minor": 0,
  "metadata": {
    "colab": {
      "name": "Untitled6.ipynb",
      "provenance": [],
      "authorship_tag": "ABX9TyNWvG9cMNic2DgSwomfwHPs",
      "include_colab_link": true
    },
    "kernelspec": {
      "name": "python3",
      "display_name": "Python 3"
    },
    "language_info": {
      "name": "python"
    }
  },
  "cells": [
    {
      "cell_type": "markdown",
      "metadata": {
        "id": "view-in-github",
        "colab_type": "text"
      },
      "source": [
        "<a href=\"https://colab.research.google.com/github/19K41A04H5/NLP/blob/main/Untitled6.ipynb\" target=\"_parent\"><img src=\"https://colab.research.google.com/assets/colab-badge.svg\" alt=\"Open In Colab\"/></a>"
      ]
    },
    {
      "cell_type": "code",
      "execution_count": 1,
      "metadata": {
        "id": "uCIvxaca_A1i"
      },
      "outputs": [],
      "source": [
        "Docs = ['Text Simplification is the task of reducing the complexity of the vocabulary and sentence  structure  of  text  while  retaining  its  original  meaning,  with  the  goal  of improving readability and understanding.',\n",
        "'Sentiment Analysis is the process of determining whether a piece of writing is positive,  negative  or  neutral.  A  sentiment  analysis  system  for  text  analysis combines natural language processing (NLP) and machine learning techniques to assign  weighted  sentiment  scores  to  the  entities,  topics,  themes  and  categories within a sentence or phrase.']"
      ]
    },
    {
      "cell_type": "code",
      "source": [
        "from sklearn.feature_extraction.text import TfidfVectorizer\n",
        "from sklearn.metrics.pairwise import cosine_similarity\n",
        "\n",
        "# Initialize an instance of tf-idf Vectorizer\n",
        "tfidf_vectorizer = TfidfVectorizer()\n",
        "\n",
        "# Generate the tf-idf vectors for the Documents , print the shape of the matrix and their cosine similarities\n",
        "tfidf_matrix12 = tfidf_vectorizer.fit_transform(Docs)\n",
        "print(\"TF-IDF Matrix Shape for DOC  : \", tfidf_matrix12.shape)\n",
        "cosine_sim12 = cosine_similarity(tfidf_matrix12, tfidf_matrix12)\n",
        "print(\"Cosine Similarity Matrix Between Documents  : \")\n",
        "print(cosine_sim12)"
      ],
      "metadata": {
        "colab": {
          "base_uri": "https://localhost:8080/"
        },
        "id": "CvE-ImaO_IQR",
        "outputId": "cfe5452f-4e6d-4e41-ea3b-0f4e91a51816"
      },
      "execution_count": 2,
      "outputs": [
        {
          "output_type": "stream",
          "name": "stdout",
          "text": [
            "TF-IDF Matrix Shape for DOC  :  (2, 53)\n",
            "Cosine Similarity Matrix Between Documents  : \n",
            "[[1.         0.26307297]\n",
            " [0.26307297 1.        ]]\n"
          ]
        }
      ]
    }
  ]
}